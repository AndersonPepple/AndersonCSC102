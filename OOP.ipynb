{
 "cells": [
  {
   "cell_type": "code",
   "execution_count": 1,
   "metadata": {},
   "outputs": [
    {
     "name": "stdout",
     "output_type": "stream",
     "text": [
      "enter your pin........\n",
      "1111\n",
      "killua\n",
      "\n"
     ]
    }
   ],
   "source": [
    "class XBank:\n",
    "    loggedinCounter = 0\n",
    "    def __init__(self,theatmpin,theaccountbalance,thename):\n",
    "        self.atmpin = theatmpin\n",
    "        self.accountbalance = theaccountbalance\n",
    "        self.name = thename\n",
    "        XBank.loggedinCounter  = XBank.loggedinCounter + 1\n",
    "    \n",
    "    def CollectMoney(self, amounttowithdraw):\n",
    "        if(amounttowithdraw > self.accountbalance):\n",
    "            print(\"Sorry we are not able to process at this time\")\n",
    "        else:\n",
    "            print(\"Collect your cash....Thanks for banking with Xbank\")\n",
    "    \n",
    "    def ChangePin(self, newPin):   \n",
    "        self.atmpin = newPin\n",
    "        print(\"Your Pin has been changed...Thanks for banking with Xbank\")\n",
    "    @classmethod  \n",
    "    def NoOfCustomersLoggedin (cls):\n",
    "        print(\"we have a total of\" + str(cls.loggedinCounter) + \" that have logged in\")\n",
    "        \n",
    "        \n",
    "\n",
    "f = open(\"C:\\\\Users\\\\ANDERSON AYE PEPPLE\\\\Documents\\\\database.txt\",'r')\n",
    "\n",
    "#print(f.readline())\n",
    "password = []\n",
    "accountB = []\n",
    "name = []\n",
    "breaker =  []\n",
    "for x in f:\n",
    "   breaker = x.split(' ')\n",
    "   password.append(breaker[0])\n",
    "   accountB.append(breaker[1]) \n",
    "   name.append(breaker[2])\n",
    "   break\n",
    "    \n",
    "\n",
    "print(\"enter your pin........\")\n",
    "\n",
    "pasw = input()\n",
    "\n",
    "if(pasw ==password[0]):\n",
    "    customer = XBank(password[0],accountB[0],name[0])\n",
    "    print(customer.name)\n",
    "else:\n",
    "    print(\"sorry your password does not match\")"
   ]
  },
  {
   "cell_type": "markdown",
   "metadata": {},
   "source": [
    "# TEACHERS MAIL"
   ]
  },
  {
   "cell_type": "markdown",
   "metadata": {},
   "source": [
    "# kOYEBADE@PAU.EDU.NG"
   ]
  },
  {
   "cell_type": "code",
   "execution_count": 3,
   "metadata": {},
   "outputs": [
    {
     "name": "stdout",
     "output_type": "stream",
     "text": [
      "15.0\n"
     ]
    }
   ],
   "source": [
    "class Student:\n",
    "    def __init__(self, a, b):\n",
    "        self.a = a\n",
    "        self.b = b\n",
    "     \n",
    "    def avg(self):\n",
    "        return (self.a + self.b)/2\n",
    "    \n",
    "s1 = Student(10, 20)\n",
    "print(s1.avg())"
   ]
  },
  {
   "cell_type": "code",
   "execution_count": 19,
   "metadata": {},
   "outputs": [
    {
     "name": "stdout",
     "output_type": "stream",
     "text": [
      "Andex\n"
     ]
    }
   ],
   "source": [
    "class Student:\n",
    "    name = 'Andex'\n",
    "    # name is class variable\n",
    "    def __init__(self, a, b):\n",
    "        self.a = a\n",
    "        self.b = b\n",
    "        \n",
    "    @classmethod\n",
    "    def info(cls):\n",
    "        return cls.name\n",
    "print(Student.info())    "
   ]
  },
  {
   "cell_type": "code",
   "execution_count": 7,
   "metadata": {},
   "outputs": [
    {
     "name": "stdout",
     "output_type": "stream",
     "text": [
      "this is a student class\n"
     ]
    }
   ],
   "source": [
    "class Student:,\n",
    "    name = 'Student'\n",
    "    def __init__(self, a, b):\n",
    "        self.a\n",
    "        self.b\n",
    "        \n",
    "    @staticmethod\n",
    "    def info():\n",
    "        return \"this is a student class\"\n",
    "\n",
    "print(Student.info())"
   ]
  },
  {
   "cell_type": "code",
   "execution_count": 52,
   "metadata": {},
   "outputs": [
    {
     "name": "stdout",
     "output_type": "stream",
     "text": [
      "James Kaka\n",
      "James Gaga\n",
      "Pau, here we come, Pau, here we come \n",
      "registered course is CSC 102\n",
      "enter a value3\n",
      "this number is odd\n",
      "NUmber of student:  1\n",
      "student is not above 16\n",
      "enroll for course next year\n"
     ]
    }
   ],
   "source": [
    "#class Assignment\n",
    "\n",
    "class Student:\n",
    "    studentLevel = 'first year computer science 2020/2021 session'\n",
    "    studentCounter = 0\n",
    "    registeredcourse = 'CSC 102'\n",
    "    \n",
    "    \n",
    "    def __init__(self, thename, thematricno, thesex, thehostelname, theage, thecsc102examscore):\n",
    "            self.name = thename\n",
    "            self.matricno = thematricno\n",
    "            self.sex = thesex\n",
    "            self.hostelname = thehostelname\n",
    "            self.age = theage\n",
    "            self.csc102examscore = thecsc102examscore\n",
    "            Student.studentCounter +=1\n",
    "\n",
    "            \n",
    "    def agecheck(self):\n",
    "        if self.age>16:\n",
    "            print('student is above 16')\n",
    "        else:\n",
    "            print('student is not above 16')\n",
    "\n",
    "    def getName(self):\n",
    "        return  self.name\n",
    "\n",
    "    def setName(self, thenewName):\n",
    "        self.name = thenewName\n",
    "    \n",
    "    def F9(self):\n",
    "        \n",
    "        if self.csc102examscore < 45:\n",
    "            print('enroll for course next year')\n",
    "        else:\n",
    "            print('you passed')\n",
    "            \n",
    "    @classmethod \n",
    "    def course(cls):\n",
    "        print('registered course is', cls.registeredcourse)\n",
    "            \n",
    "    @staticmethod\n",
    "    def PAUNanthem():\n",
    "        print('Pau, here we come, Pau, here we come ')\n",
    "    \n",
    "    @staticmethod\n",
    "    def even_or_odd(num):\n",
    "        if num%2 == 0:\n",
    "            print('this number is even')\n",
    "        else:\n",
    "            print('this number is odd')\n",
    "            \n",
    "    @classmethod\n",
    "    def StudentCounter(cls):\n",
    "        print(\"Number of student: \",cls.studentCounter)\n",
    "    \n",
    "\n",
    "studendt1 = Student('James Kaka', '021074', 'M', 'Amethyst', 16, 12)\n",
    "print(studendt1.getName())\n",
    "studendt1.setName('James Gaga')\n",
    "print(studendt1.getName())\n",
    "\n",
    "Student.PAUNanthem()\n",
    "Student.course()\n",
    "Student.even_or_odd(int(input('enter a value')))\n",
    "(Student.StudentCounter())\n",
    "studendt1.agecheck()\n",
    "studendt1.F9()"
   ]
  },
  {
   "cell_type": "code",
   "execution_count": 1,
   "metadata": {},
   "outputs": [
    {
     "name": "stdout",
     "output_type": "stream",
     "text": [
      "Tim :\n",
      "I dont know what I say\n",
      "Bill :\n",
      "MEOW\n",
      "Jill :\n",
      "Bark\n",
      "Anna :\n",
      "I dont know what I say\n"
     ]
    }
   ],
   "source": [
    "class Pet:\n",
    "    def __init__(self, name, age):\n",
    "        self.name = name\n",
    "        self.age = age\n",
    "    \n",
    "    def show(self):\n",
    "        print(f\"I am {self.name} and  am {self.age} years old\")\n",
    "        \n",
    "    def speak(self):\n",
    "        print(\"I dont know what I say\")\n",
    "\n",
    "class Cat(Pet):\n",
    "    def speak(self):\n",
    "        print(\"MEOW\")\n",
    "     \n",
    "    \n",
    "class Dog(Pet):\n",
    "    def speak(self):\n",
    "        print(\"Bark\")\n",
    "        \n",
    "\n",
    "class Fish(Pet):\n",
    "        pass\n",
    "        \n",
    "p = Pet(\"Tim\", 19)\n",
    "print(p.name, ':')\n",
    "p.speak()\n",
    "c = Cat(\"Bill\", 34)\n",
    "print(c.name, ':')\n",
    "c.speak()\n",
    "d = Dog(\"Jill\", 25)\n",
    "print(d.name, \":\")\n",
    "d.speak()\n",
    "f = Fish(\"Anna\", 12)\n",
    "print(f.name, \":\")\n",
    "f.speak()"
   ]
  },
  {
   "cell_type": "code",
   "execution_count": 10,
   "metadata": {},
   "outputs": [
    {
     "name": "stdout",
     "output_type": "stream",
     "text": [
      "A has it\n"
     ]
    }
   ],
   "source": [
    "class student:\n",
    "    def __init__(self,a,b):\n",
    "        self.a = a\n",
    "        self.b = b\n",
    "        \n",
    "    def greater(self):\n",
    "        if self.a > self.b:\n",
    "            return('A has it')\n",
    "    \n",
    "O1 = student(24,2)\n",
    "print(O1.greater())"
   ]
  },
  {
   "cell_type": "markdown",
   "metadata": {},
   "source": [
    "# polymorphism"
   ]
  },
  {
   "cell_type": "code",
   "execution_count": 1,
   "metadata": {},
   "outputs": [
    {
     "name": "stdout",
     "output_type": "stream",
     "text": [
      "There are many types of birds.\n",
      "Most of the birds can fly but some cannot.\n",
      "There are many types of birds.\n",
      "Sparrows can fly.\n",
      "There are many types of birds.\n",
      "Ostriches cannot fly.\n"
     ]
    }
   ],
   "source": [
    "class Bird:\n",
    "  def intro(self):\n",
    "    print(\"There are many types of birds.\")\n",
    "      \n",
    "  def flight(self):\n",
    "    print(\"Most of the birds can fly but some cannot.\")\n",
    "    \n",
    "class sparrow(Bird):\n",
    "  def flight(self):\n",
    "    print(\"Sparrows can fly.\")\n",
    "      \n",
    "class ostrich(Bird):\n",
    "  def flight(self):\n",
    "    print(\"Ostriches cannot fly.\")\n",
    "      \n",
    "obj_bird = Bird()\n",
    "obj_spr = sparrow()\n",
    "obj_ost = ostrich()\n",
    "  \n",
    "obj_bird.intro()\n",
    "obj_bird.flight()\n",
    "  \n",
    "obj_spr.intro()\n",
    "obj_spr.flight()\n",
    "  \n",
    "obj_ost.intro()\n",
    "obj_ost.flight()\n",
    "\n",
    "\n",
    "# Output:\n",
    "# //There are many types of birds.\n",
    "# //Most of the birds can fly but some cannot.\n",
    "# //There are many types of birds.\n",
    "# //Sparrows can fly.\n",
    "# //There are many types of birds.\n",
    "# //Ostriches cannot fly."
   ]
  },
  {
   "cell_type": "code",
   "execution_count": 1,
   "metadata": {},
   "outputs": [],
   "source": [
    "# Abstraction"
   ]
  },
  {
   "cell_type": "code",
   "execution_count": 9,
   "metadata": {},
   "outputs": [
    {
     "name": "stdout",
     "output_type": "stream",
     "text": [
      "area of a rectangle: 9\n",
      "area of a cirlce: 50.24\n"
     ]
    }
   ],
   "source": [
    "from abc import ABC, abstractmethod\n",
    "class Shape(ABC): #abstract c\n",
    "    @abstractmethod\n",
    "    def calculate_area(self):\n",
    "        pass\n",
    "    \n",
    "class Rectangle(Shape):\n",
    "    length = 3\n",
    "    breadth = 3\n",
    "    def calculate_area(self):\n",
    "        return self.length*self.breadth\n",
    "    \n",
    "class Circle(Shape):\n",
    "    radius = 4\n",
    "    def calculate_area(self):\n",
    "        return 3.14*self.radius*self.radius\n",
    "\n",
    "    \n",
    "rec = Rectangle()\n",
    "cir = Circle()\n",
    "print('area of a rectangle:', rec.calculate_area())\n",
    "print('area of a cirlce:', cir.calculate_area())"
   ]
  },
  {
   "cell_type": "code",
   "execution_count": 9,
   "metadata": {},
   "outputs": [
    {
     "name": "stdout",
     "output_type": "stream",
     "text": [
      "birds deficate\n",
      "Hens walk and fly\n",
      "birds deficate\n",
      "ostriches runs\n"
     ]
    }
   ],
   "source": [
    "from abc import ABC, abstractmethod\n",
    "class bird(ABC):\n",
    "    def defecate(self):\n",
    "        print('birds deficate')\n",
    "    @abstractmethod\n",
    "    def move(self):\n",
    "        pass\n",
    "    \n",
    "class Hen(bird):\n",
    "    def move(self):\n",
    "        move = 'walk and fly'\n",
    "        print('Hens', move)\n",
    "        \n",
    "        \n",
    "class Ostrich(bird):\n",
    "    def move(self):\n",
    "        move = 'runs'\n",
    "        print('ostriches', move)\n",
    "        \n",
    "hen = Hen() \n",
    "hen.defecate()\n",
    "hen.move()\n",
    "Ostrich = Ostrich()\n",
    "Ostrich.defecate()\n",
    "Ostrich.move()"
   ]
  },
  {
   "cell_type": "code",
   "execution_count": null,
   "metadata": {},
   "outputs": [],
   "source": []
  },
  {
   "cell_type": "code",
   "execution_count": null,
   "metadata": {},
   "outputs": [],
   "source": []
  }
 ],
 "metadata": {
  "kernelspec": {
   "display_name": "Python 3",
   "language": "python",
   "name": "python3"
  },
  "language_info": {
   "codemirror_mode": {
    "name": "ipython",
    "version": 3
   },
   "file_extension": ".py",
   "mimetype": "text/x-python",
   "name": "python",
   "nbconvert_exporter": "python",
   "pygments_lexer": "ipython3",
   "version": "3.8.5"
  }
 },
 "nbformat": 4,
 "nbformat_minor": 4
}
