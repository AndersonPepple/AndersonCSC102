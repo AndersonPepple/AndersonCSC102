{
 "cells": [
  {
   "cell_type": "markdown",
   "metadata": {},
   "source": [
    "# PROBLEM 2"
   ]
  },
  {
   "cell_type": "code",
   "execution_count": 9,
   "metadata": {},
   "outputs": [
    {
     "name": "stdout",
     "output_type": "stream",
     "text": [
      "input value A 23\n",
      "inbut value B 876\n",
      "odd guy wins\n"
     ]
    }
   ],
   "source": [
    "a = int(input(\"input value A \"))\n",
    "b = int(input(\"inbut value B \"))\n",
    "sum = a + b\n",
    "if sum%2 == 0:\n",
    "    print(\"even guy wins\")\n",
    "else:\n",
    "    print(\"odd guy wins\")"
   ]
  },
  {
   "cell_type": "markdown",
   "metadata": {},
   "source": [
    "# PROBLEM 3"
   ]
  },
  {
   "cell_type": "code",
   "execution_count": 10,
   "metadata": {},
   "outputs": [],
   "source": [
    "import pandas"
   ]
  },
  {
   "cell_type": "code",
   "execution_count": 14,
   "metadata": {},
   "outputs": [],
   "source": [
    "R_n_D_Spend = [20, 24, 13, 45, 50]\n",
    "Administration = [12.4, 45.2, 123, 32.2, 44.9]\n",
    "Marketing_spend = [23.3, 45, 654, 43, 12]\n",
    "State = ['New York', 'Detroit', 'California', 'Florida', 'Maimi']\n",
    "profit = [1234, 3443, 5454, 64656, 121212]"
   ]
  },
  {
   "cell_type": "code",
   "execution_count": 15,
   "metadata": {},
   "outputs": [],
   "source": [
    "tabl = {'R_n_D_Spend: ' : R_n_D_Spend, 'Administration: ': Administration, 'Marketing_spend: ': Marketing_spend, 'State: ': State,'profit: ': profit}"
   ]
  },
  {
   "cell_type": "code",
   "execution_count": 16,
   "metadata": {},
   "outputs": [
    {
     "data": {
      "text/plain": [
       "{'R_n_D_Spend: ': [20, 24, 13, 45, 50],\n",
       " 'Administration: ': [12.4, 45.2, 123, 32.2, 44.9],\n",
       " 'Marketing_spend: ': [23.3, 45, 654, 43, 12],\n",
       " 'State: ': ['New York', 'Detroit', 'California', 'Florida', 'Maimi'],\n",
       " 'profit: ': [1234, 3443, 5454, 64656, 121212]}"
      ]
     },
     "execution_count": 16,
     "metadata": {},
     "output_type": "execute_result"
    }
   ],
   "source": [
    "tabl"
   ]
  },
  {
   "cell_type": "code",
   "execution_count": 17,
   "metadata": {},
   "outputs": [],
   "source": [
    "tabl = pandas.DataFrame(tabl)"
   ]
  },
  {
   "cell_type": "code",
   "execution_count": 18,
   "metadata": {},
   "outputs": [
    {
     "data": {
      "text/html": [
       "<div>\n",
       "<style scoped>\n",
       "    .dataframe tbody tr th:only-of-type {\n",
       "        vertical-align: middle;\n",
       "    }\n",
       "\n",
       "    .dataframe tbody tr th {\n",
       "        vertical-align: top;\n",
       "    }\n",
       "\n",
       "    .dataframe thead th {\n",
       "        text-align: right;\n",
       "    }\n",
       "</style>\n",
       "<table border=\"1\" class=\"dataframe\">\n",
       "  <thead>\n",
       "    <tr style=\"text-align: right;\">\n",
       "      <th></th>\n",
       "      <th>R_n_D_Spend:</th>\n",
       "      <th>Administration:</th>\n",
       "      <th>Marketing_spend:</th>\n",
       "      <th>State:</th>\n",
       "      <th>profit:</th>\n",
       "    </tr>\n",
       "  </thead>\n",
       "  <tbody>\n",
       "    <tr>\n",
       "      <th>0</th>\n",
       "      <td>20</td>\n",
       "      <td>12.4</td>\n",
       "      <td>23.3</td>\n",
       "      <td>New York</td>\n",
       "      <td>1234</td>\n",
       "    </tr>\n",
       "    <tr>\n",
       "      <th>1</th>\n",
       "      <td>24</td>\n",
       "      <td>45.2</td>\n",
       "      <td>45.0</td>\n",
       "      <td>Detroit</td>\n",
       "      <td>3443</td>\n",
       "    </tr>\n",
       "    <tr>\n",
       "      <th>2</th>\n",
       "      <td>13</td>\n",
       "      <td>123.0</td>\n",
       "      <td>654.0</td>\n",
       "      <td>California</td>\n",
       "      <td>5454</td>\n",
       "    </tr>\n",
       "    <tr>\n",
       "      <th>3</th>\n",
       "      <td>45</td>\n",
       "      <td>32.2</td>\n",
       "      <td>43.0</td>\n",
       "      <td>Florida</td>\n",
       "      <td>64656</td>\n",
       "    </tr>\n",
       "    <tr>\n",
       "      <th>4</th>\n",
       "      <td>50</td>\n",
       "      <td>44.9</td>\n",
       "      <td>12.0</td>\n",
       "      <td>Maimi</td>\n",
       "      <td>121212</td>\n",
       "    </tr>\n",
       "  </tbody>\n",
       "</table>\n",
       "</div>"
      ],
      "text/plain": [
       "   R_n_D_Spend:   Administration:   Marketing_spend:      State:   profit: \n",
       "0             20              12.4               23.3    New York      1234\n",
       "1             24              45.2               45.0     Detroit      3443\n",
       "2             13             123.0              654.0  California      5454\n",
       "3             45              32.2               43.0     Florida     64656\n",
       "4             50              44.9               12.0       Maimi    121212"
      ]
     },
     "execution_count": 18,
     "metadata": {},
     "output_type": "execute_result"
    }
   ],
   "source": [
    "tabl"
   ]
  },
  {
   "cell_type": "code",
   "execution_count": 33,
   "metadata": {},
   "outputs": [],
   "source": [
    "tabl.to_excel('problem3.xlsx')"
   ]
  },
  {
   "cell_type": "markdown",
   "metadata": {},
   "source": [
    "# PROBLEM 4"
   ]
  },
  {
   "cell_type": "code",
   "execution_count": null,
   "metadata": {},
   "outputs": [],
   "source": [
    "D = int(input(\"distance \"))\n",
    "T = int(input(\"time \"))\n",
    "S = D/T\n",
    "print(S,'miles/hour')"
   ]
  },
  {
   "cell_type": "markdown",
   "metadata": {},
   "source": [
    "# PROBLEM 5"
   ]
  },
  {
   "cell_type": "code",
   "execution_count": 45,
   "metadata": {},
   "outputs": [
    {
     "name": "stdout",
     "output_type": "stream",
     "text": [
      "input value x 4\n",
      "False\n"
     ]
    }
   ],
   "source": [
    "x = int(input(\"input value x \"))\n",
    "eqn =\n"
   ]
  },
  {
   "cell_type": "code",
   "execution_count": null,
   "metadata": {},
   "outputs": [],
   "source": []
  }
 ],
 "metadata": {
  "kernelspec": {
   "display_name": "Python 3",
   "language": "python",
   "name": "python3"
  },
  "language_info": {
   "codemirror_mode": {
    "name": "ipython",
    "version": 3
   },
   "file_extension": ".py",
   "mimetype": "text/x-python",
   "name": "python",
   "nbconvert_exporter": "python",
   "pygments_lexer": "ipython3",
   "version": "3.8.5"
  }
 },
 "nbformat": 4,
 "nbformat_minor": 4
}
