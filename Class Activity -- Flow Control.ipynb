{
 "cells": [
  {
   "cell_type": "markdown",
   "metadata": {},
   "source": [
    "# Class Work"
   ]
  },
  {
   "cell_type": "code",
   "execution_count": 1,
   "metadata": {},
   "outputs": [
    {
     "name": "stdout",
     "output_type": "stream",
     "text": [
      "10\n",
      "20\n",
      "30\n",
      "40\n",
      "50\n"
     ]
    }
   ],
   "source": [
    "#print the given sequence of numbers using for loop\n",
    "count = [10,20,30,40,50]\n",
    "for num in count:\n",
    "    print(num)"
   ]
  },
  {
   "cell_type": "code",
   "execution_count": 2,
   "metadata": {},
   "outputs": [
    {
     "name": "stdout",
     "output_type": "stream",
     "text": [
      "10\n",
      "20\n",
      "30\n",
      "40\n"
     ]
    }
   ],
   "source": [
    "#print multiples of 10 for numbers in a given range\n",
    "for num in range(5):\n",
    "    if num > 0:\n",
    "        print(num * 10)"
   ]
  },
  {
   "cell_type": "code",
   "execution_count": 4,
   "metadata": {},
   "outputs": [
    {
     "name": "stdout",
     "output_type": "stream",
     "text": [
      "1\n",
      "2\n",
      "3\n",
      "4\n",
      "5\n"
     ]
    }
   ],
   "source": [
    "#print first 5 natural numbers using while loop\n",
    "count = 1\n",
    "while count <= 5:\n",
    "    print(count)\n",
    "    count+= 1"
   ]
  },
  {
   "cell_type": "code",
   "execution_count": 47,
   "metadata": {},
   "outputs": [
    {
     "name": "stdout",
     "output_type": "stream",
     "text": [
      "Enter numbers to find their sum, negative number  end the loop:\n",
      "-101\n",
      "sum = 0\n"
     ]
    }
   ],
   "source": [
    "entry = 0\n",
    "sum1 = 0\n",
    "print(\"Enter numbers to find their sum, negative number  end the loop:\")\n",
    "while True:\n",
    "    #int() typecasts string to integer\n",
    "    entry = int(input())\n",
    "    if (entry < 0):\n",
    "        break\n",
    "        sum += entry\n",
    "print(\"sum =\", sum1)"
   ]
  },
  {
   "cell_type": "code",
   "execution_count": 46,
   "metadata": {},
   "outputs": [
    {
     "name": "stdout",
     "output_type": "stream",
     "text": [
      "Num has value 1\n",
      "Num has value 2\n",
      "Num has value 4\n",
      "Num has value 5\n",
      "Num has value 6\n",
      "End of loop\n"
     ]
    }
   ],
   "source": [
    "num = 0 \n",
    "for num in range(6):\n",
    "    num = num + 1\n",
    "    if num ==3:\n",
    "        continue\n",
    "    print('Num has value ' + str(num))\n",
    "print('End of loop')    "
   ]
  },
  {
   "cell_type": "code",
   "execution_count": 29,
   "metadata": {},
   "outputs": [
    {
     "name": "stdout",
     "output_type": "stream",
     "text": [
      "Iteretion 1 of outer loop\n",
      "1\n",
      "2\n",
      "Out of inner loop\n",
      "Iteretion 2 of outer loop\n",
      "1\n",
      "2\n",
      "Out of inner loop\n",
      "Iteretion 3 of outer loop\n",
      "1\n",
      "2\n",
      "Out of inner loop\n",
      "Out of outer loop\n"
     ]
    }
   ],
   "source": [
    "for var1 in range(3):\n",
    "    print( \"Iteretion \" + str(var1 + 1) + \" of outer loop\")\n",
    "    for var2 in range(2): #nested loop\n",
    "        print(var2 + 1)\n",
    "    print(\"Out of inner loop\")        \n",
    "print(\"Out of outer loop\")        "
   ]
  },
  {
   "cell_type": "code",
   "execution_count": 35,
   "metadata": {},
   "outputs": [
    {
     "name": "stdout",
     "output_type": "stream",
     "text": [
      "Enter a number to generate its pattern = 2\n",
      "1 \n",
      "1 2 \n"
     ]
    }
   ],
   "source": [
    "#EXERCISE I\n",
    "#the output pattern to be generated is\n",
    "#1\n",
    "#1 2\n",
    "#1 2 3\n",
    "#1 2 3 4\n",
    "#1 2 3 4 5\n",
    "num = int(input(\"Enter a number to generate its pattern = \"))\n",
    "for i in range(1,num+1):\n",
    "    for j in range(1,i + 1): \n",
    "        print(j, end = \" \")\n",
    "    print()"
   ]
  },
  {
   "cell_type": "code",
   "execution_count": 36,
   "metadata": {},
   "outputs": [
    {
     "name": "stdout",
     "output_type": "stream",
     "text": [
      "2 is a prime number\n",
      "3 is a prime number\n",
      "5 is a prime number\n",
      "7 is a prime number\n",
      "11 is a prime number\n",
      "13 is a prime number\n",
      "17 is a prime number\n",
      "19 is a prime number\n",
      "23 is a prime number\n",
      "29 is a prime number\n",
      "31 is a prime number\n",
      "37 is a prime number\n",
      "41 is a prime number\n",
      "43 is a prime number\n",
      "47 is a prime number\n",
      "Bye Bye!!\n"
     ]
    }
   ],
   "source": [
    "#EXERCISE II\n",
    "num = 2\n",
    "for i in range(2, 50):\n",
    "    j= 2\n",
    "    while ( j <= (i/2)):\n",
    "        if (i % j == 0): #factor found\n",
    "            break #break out of while loop\n",
    "        j += 1\n",
    "    if (j > i/j) : #no factor found\n",
    "        print (i, \"is a prime number\")\n",
    "print(\"Bye Bye!!\")        "
   ]
  },
  {
   "cell_type": "code",
   "execution_count": 39,
   "metadata": {},
   "outputs": [
    {
     "name": "stdout",
     "output_type": "stream",
     "text": [
      "Enter a number: 32\n",
      "factorial of  32  is  33\n"
     ]
    }
   ],
   "source": [
    "#EXERCISE III\n",
    "num = int(input(\"Enter a number: \"))\n",
    "fact = 1\n",
    "if num < 0:\n",
    "      print(\"sorry, factorial does nat exist for negative numbers\")\n",
    "elif num == 0:\n",
    "    print(\"The factorial of 0 is 1\")\n",
    "else:\n",
    "    for i in range(1, num + 1):\n",
    "        fact = fact + 1\n",
    "    print(\"factorial of \", num, \" is \", fact)    \n",
    "    "
   ]
  },
  {
   "cell_type": "code",
   "execution_count": 41,
   "metadata": {},
   "outputs": [
    {
     "name": "stdout",
     "output_type": "stream",
     "text": [
      "Enter the number to be checked: 23\n",
      "23 is a prime number\n"
     ]
    }
   ],
   "source": [
    "#EXERCISE IV\n",
    "num = int(input(\"Enter the number to be checked: \"))\n",
    "flag = 0\n",
    "if num > 1:\n",
    "    for i in range(2, int(num/2)):\n",
    "        if (num % i == 0):\n",
    "            flag = 1\n",
    "            break\n",
    "    if flag == 1:\n",
    "        print(num, \"is not a prime number\")\n",
    "    else:\n",
    "            print(num, \"is a prime number\")\n",
    "else :\n",
    "    print(\"Entered number is <= 1, execute again!\")"
   ]
  },
  {
   "cell_type": "code",
   "execution_count": 44,
   "metadata": {},
   "outputs": [
    {
     "name": "stdout",
     "output_type": "stream",
     "text": [
      "enter a number to find its factor: 100\n",
      "1 2 4 5 10 20 25 50 100 "
     ]
    }
   ],
   "source": [
    "#EXERCISE V\n",
    "num = int(input(\"enter a number to find its factor: \"))\n",
    "print (1, end=' ')\n",
    "factor = 2\n",
    "while factor <= num/2 :\n",
    "    if num % factor == 0:\n",
    "       print(factor, end=' ')\n",
    "    factor += 1\n",
    "print(num, end=' ')    "
   ]
  },
  {
   "cell_type": "code",
   "execution_count": null,
   "metadata": {},
   "outputs": [],
   "source": []
  },
  {
   "cell_type": "code",
   "execution_count": null,
   "metadata": {},
   "outputs": [],
   "source": []
  }
 ],
 "metadata": {
  "kernelspec": {
   "display_name": "Python 3",
   "language": "python",
   "name": "python3"
  },
  "language_info": {
   "codemirror_mode": {
    "name": "ipython",
    "version": 3
   },
   "file_extension": ".py",
   "mimetype": "text/x-python",
   "name": "python",
   "nbconvert_exporter": "python",
   "pygments_lexer": "ipython3",
   "version": "3.8.5"
  }
 },
 "nbformat": 4,
 "nbformat_minor": 4
}
