{
 "cells": [
  {
   "cell_type": "markdown",
   "metadata": {},
   "source": [
    "# MAGIC COMMANDS"
   ]
  },
  {
   "cell_type": "code",
   "execution_count": 13,
   "metadata": {},
   "outputs": [],
   "source": [
    "%matplotlib inline"
   ]
  },
  {
   "cell_type": "code",
   "execution_count": 5,
   "metadata": {},
   "outputs": [
    {
     "data": {
      "text/plain": [
       "{'ALLUSERSPROFILE': 'C:\\\\ProgramData',\n",
       " 'APPDATA': 'C:\\\\Users\\\\ANDERSON AYE PEPPLE\\\\AppData\\\\Roaming',\n",
       " 'COMMONPROGRAMFILES': 'C:\\\\Program Files\\\\Common Files',\n",
       " 'COMMONPROGRAMFILES(X86)': 'C:\\\\Program Files (x86)\\\\Common Files',\n",
       " 'COMMONPROGRAMW6432': 'C:\\\\Program Files\\\\Common Files',\n",
       " 'COMPUTERNAME': 'ANDEXPC',\n",
       " 'COMSPEC': 'C:\\\\windows\\\\system32\\\\cmd.exe',\n",
       " 'CONDA_DEFAULT_ENV': 'base',\n",
       " 'CONDA_EXE': 'C:\\\\Users\\\\ANDERSON AYE PEPPLE\\\\anaconda3\\\\Scripts\\\\conda.exe',\n",
       " 'CONDA_PROMPT_MODIFIER': '(base) ',\n",
       " 'CONDA_PYTHON_EXE': 'C:\\\\Users\\\\ANDERSON AYE PEPPLE\\\\anaconda3\\\\python.exe',\n",
       " 'CONDA_ROOT': 'C:\\\\Users\\\\ANDERSON AYE PEPPLE\\\\anaconda3',\n",
       " 'CONDA_SHLVL': '1',\n",
       " 'DRIVERDATA': 'C:\\\\Windows\\\\System32\\\\Drivers\\\\DriverData',\n",
       " 'FPS_BROWSER_APP_PROFILE_STRING': 'Internet Explorer',\n",
       " 'FPS_BROWSER_USER_PROFILE_STRING': 'Default',\n",
       " 'HOMEDRIVE': 'C:',\n",
       " 'HOMEPATH': '\\\\Users\\\\ANDERSON AYE PEPPLE',\n",
       " 'LOCALAPPDATA': 'C:\\\\Users\\\\ANDERSON AYE PEPPLE\\\\AppData\\\\Local',\n",
       " 'LOGONSERVER': '\\\\\\\\ANDEXPC',\n",
       " 'NUMBER_OF_PROCESSORS': '8',\n",
       " 'ONEDRIVE': 'C:\\\\Users\\\\ANDERSON AYE PEPPLE\\\\OneDrive',\n",
       " 'ONEDRIVECONSUMER': 'C:\\\\Users\\\\ANDERSON AYE PEPPLE\\\\OneDrive',\n",
       " 'ONLINESERVICES': 'Online Services',\n",
       " 'OS': 'Windows_NT',\n",
       " 'PATH': 'C:\\\\Users\\\\ANDERSON AYE PEPPLE\\\\anaconda3;C:\\\\Users\\\\ANDERSON AYE PEPPLE\\\\anaconda3\\\\Library\\\\mingw-w64\\\\bin;C:\\\\Users\\\\ANDERSON AYE PEPPLE\\\\anaconda3\\\\Library\\\\usr\\\\bin;C:\\\\Users\\\\ANDERSON AYE PEPPLE\\\\anaconda3\\\\Library\\\\bin;C:\\\\Users\\\\ANDERSON AYE PEPPLE\\\\anaconda3\\\\Scripts;C:\\\\Users\\\\ANDERSON AYE PEPPLE\\\\anaconda3\\\\bin;C:\\\\Users\\\\ANDERSON AYE PEPPLE\\\\anaconda3\\\\condabin;C:\\\\Users\\\\ANDERSON AYE PEPPLE\\\\anaconda3;C:\\\\Users\\\\ANDERSON AYE PEPPLE\\\\anaconda3\\\\Library\\\\mingw-w64\\\\bin;C:\\\\Users\\\\ANDERSON AYE PEPPLE\\\\anaconda3\\\\Library\\\\usr\\\\bin;C:\\\\Users\\\\ANDERSON AYE PEPPLE\\\\anaconda3\\\\Library\\\\bin;C:\\\\Users\\\\ANDERSON AYE PEPPLE\\\\anaconda3\\\\Scripts;C:\\\\Program Files (x86)\\\\Razer Chroma SDK\\\\bin;C:\\\\Program Files\\\\Razer Chroma SDK\\\\bin;C:\\\\Program Files (x86)\\\\Razer\\\\ChromaBroadcast\\\\bin;C:\\\\Program Files\\\\Razer\\\\ChromaBroadcast\\\\bin;C:\\\\ProgramData\\\\Oracle\\\\Java\\\\javapath;C:\\\\windows\\\\system32;C:\\\\windows;C:\\\\windows\\\\System32\\\\Wbem;C:\\\\windows\\\\System32\\\\WindowsPowerShell\\\\v1.0;C:\\\\windows\\\\System32\\\\OpenSSH;C:\\\\Program Files (x86)\\\\NVIDIA Corporation\\\\PhysX\\\\Common;C:\\\\Program Files\\\\NVIDIA Corporation\\\\NVIDIA NvDLISR;C:\\\\windows\\\\system32\\\\config\\\\systemprofile\\\\AppData\\\\Local\\\\Microsoft\\\\WindowsApps;C:\\\\Program Files\\\\dotnet;C:\\\\Program Files\\\\Git\\\\cmd;C:\\\\Users\\\\ANDERSON AYE PEPPLE\\\\AppData\\\\Local\\\\Microsoft\\\\WindowsApps;C:\\\\Users\\\\ANDERSON AYE PEPPLE\\\\AppData\\\\Local\\\\Programs\\\\MiKTeX\\\\miktex\\\\bin\\\\x64',\n",
       " 'PATHEXT': '.COM;.EXE;.BAT;.CMD;.VBS;.VBE;.JS;.JSE;.WSF;.WSH;.MSC',\n",
       " 'PLATFORMCODE': 'KV',\n",
       " 'PROCESSOR_ARCHITECTURE': 'AMD64',\n",
       " 'PROCESSOR_IDENTIFIER': 'Intel64 Family 6 Model 142 Stepping 12, GenuineIntel',\n",
       " 'PROCESSOR_LEVEL': '6',\n",
       " 'PROCESSOR_REVISION': '8e0c',\n",
       " 'PROGRAMDATA': 'C:\\\\ProgramData',\n",
       " 'PROGRAMFILES': 'C:\\\\Program Files',\n",
       " 'PROGRAMFILES(X86)': 'C:\\\\Program Files (x86)',\n",
       " 'PROGRAMW6432': 'C:\\\\Program Files',\n",
       " 'PROMPT': '(base) $P$G',\n",
       " 'PSMODULEPATH': 'C:\\\\Program Files\\\\WindowsPowerShell\\\\Modules;C:\\\\windows\\\\system32\\\\WindowsPowerShell\\\\v1.0\\\\Modules',\n",
       " 'PUBLIC': 'C:\\\\Users\\\\Public',\n",
       " 'REGIONCODE': 'EMEA',\n",
       " 'SESSIONNAME': 'Console',\n",
       " 'SYSTEMDRIVE': 'C:',\n",
       " 'SYSTEMROOT': 'C:\\\\windows',\n",
       " 'TEMP': 'C:\\\\Users\\\\ANDERS~1\\\\AppData\\\\Local\\\\Temp',\n",
       " 'TMP': 'C:\\\\Users\\\\ANDERS~1\\\\AppData\\\\Local\\\\Temp',\n",
       " 'USERDOMAIN': 'ANDEXPC',\n",
       " 'USERDOMAIN_ROAMINGPROFILE': 'ANDEXPC',\n",
       " 'USERNAME': 'ANDERSON AYE PEPPLE',\n",
       " 'USERPROFILE': 'C:\\\\Users\\\\ANDERSON AYE PEPPLE',\n",
       " 'WINDIR': 'C:\\\\windows',\n",
       " 'ZES_ENABLE_SYSMAN': '1',\n",
       " 'CONDA_PREFIX': 'C:\\\\Users\\\\ANDERSON AYE PEPPLE\\\\anaconda3',\n",
       " 'JPY_INTERRUPT_EVENT': '2180',\n",
       " 'IPY_INTERRUPT_EVENT': '2180',\n",
       " 'JPY_PARENT_PID': '2252',\n",
       " 'TERM': 'xterm-color',\n",
       " 'CLICOLOR': '1',\n",
       " 'PAGER': 'cat',\n",
       " 'GIT_PAGER': 'cat',\n",
       " 'MPLBACKEND': 'module://ipykernel.pylab.backend_inline'}"
      ]
     },
     "execution_count": 5,
     "metadata": {},
     "output_type": "execute_result"
    }
   ],
   "source": [
    "%env"
   ]
  },
  {
   "cell_type": "code",
   "execution_count": 10,
   "metadata": {},
   "outputs": [
    {
     "name": "stdout",
     "output_type": "stream",
     "text": [
      "Object `Anderson is a student` not found.\n"
     ]
    }
   ],
   "source": [
    "%pinfo Anderson is a student"
   ]
  },
  {
   "cell_type": "code",
   "execution_count": 11,
   "metadata": {},
   "outputs": [
    {
     "name": "stdout",
     "output_type": "stream",
     "text": [
      "C:\\Users\\ANDERSON AYE PEPPLE\n"
     ]
    }
   ],
   "source": [
    "%cd"
   ]
  },
  {
   "cell_type": "code",
   "execution_count": 12,
   "metadata": {},
   "outputs": [
    {
     "name": "stdout",
     "output_type": "stream",
     "text": [
      " Volume in drive C is Windows\n",
      " Volume Serial Number is 707F-D107\n",
      "\n",
      " Directory of C:\\Users\\ANDERSON AYE PEPPLE\n",
      "\n",
      "16/04/2021  06:07 pm    <DIR>          .\n",
      "16/04/2021  06:07 pm    <DIR>          ..\n",
      "16/04/2021  06:09 pm    <DIR>          .conda\n",
      "15/04/2021  08:40 pm                43 .condarc\n",
      "09/04/2021  12:02 pm                66 .gitconfig\n",
      "15/04/2021  02:22 pm    <DIR>          .ipynb_checkpoints\n",
      "21/01/2021  03:39 pm    <DIR>          .ipython\n",
      "04/02/2021  03:02 pm    <DIR>          .jupyter\n",
      "16/04/2021  06:07 pm    <DIR>          .matplotlib\n",
      "13/01/2021  10:08 am    <DIR>          3D Objects\n",
      "14/01/2021  04:32 pm    <DIR>          anaconda3\n",
      "10/02/2021  09:52 pm             6,146 Anderson.ipynb\n",
      "04/03/2021  03:15 pm    <DIR>          Anderson's\n",
      "22/01/2021  06:26 pm    <DIR>          ansel\n",
      "23/01/2021  06:29 pm    <DIR>          Apple\n",
      "13/01/2021  10:08 am    <DIR>          Contacts\n",
      "07/04/2021  08:54 pm    <DIR>          Desktop\n",
      "09/04/2021  11:34 am    <DIR>          Documents\n",
      "16/04/2021  05:59 pm    <DIR>          Downloads\n",
      "13/01/2021  10:08 am    <DIR>          Favorites\n",
      "15/04/2021  05:51 pm           307,907 lab-exercises-1.ipynb\n",
      "13/01/2021  10:08 am    <DIR>          Links\n",
      "23/03/2021  11:49 pm    <DIR>          Music\n",
      "16/04/2021  05:50 pm    <DIR>          OneDrive\n",
      "29/03/2021  12:12 pm    <DIR>          Pictures\n",
      "13/01/2021  10:08 am    <DIR>          Saved Games\n",
      "13/01/2021  10:09 am    <DIR>          Searches\n",
      "04/02/2021  03:03 pm                72 Untitled.ipynb\n",
      "04/02/2021  04:47 pm             7,025 Untitled1.ipynb\n",
      "13/01/2021  08:05 pm    <DIR>          Videos\n",
      "               6 File(s)        321,259 bytes\n",
      "              24 Dir(s)  675,747,340,288 bytes free\n"
     ]
    }
   ],
   "source": [
    "%ls"
   ]
  },
  {
   "cell_type": "code",
   "execution_count": 14,
   "metadata": {},
   "outputs": [
    {
     "name": "stdout",
     "output_type": "stream",
     "text": [
      "%alias\n",
      "%alias_magic\n",
      "%%time\n",
      "%matplotlib inline\n",
      "%env\n",
      "%pinfo anderson\n",
      "%pinfo Anderson\n",
      "%pinfo <Anderson>\n",
      "%pinfo <Anderson is a student\n",
      "%pinfo Anderson is a student\n",
      "%cd\n",
      "%ls\n",
      "%matplotlib inline\n",
      "%history\n"
     ]
    }
   ],
   "source": [
    "%history"
   ]
  },
  {
   "cell_type": "code",
   "execution_count": 18,
   "metadata": {},
   "outputs": [
    {
     "name": "stdout",
     "output_type": "stream",
     "text": [
      "Wall time: 319 ms\n"
     ]
    }
   ],
   "source": [
    "%%time\n",
    "import random\n",
    "for i in range(0, 1000000):\n",
    "    random.random()"
   ]
  },
  {
   "cell_type": "code",
   "execution_count": null,
   "metadata": {},
   "outputs": [],
   "source": []
  }
 ],
 "metadata": {
  "kernelspec": {
   "display_name": "Python 3",
   "language": "python",
   "name": "python3"
  },
  "language_info": {
   "codemirror_mode": {
    "name": "ipython",
    "version": 3
   },
   "file_extension": ".py",
   "mimetype": "text/x-python",
   "name": "python",
   "nbconvert_exporter": "python",
   "pygments_lexer": "ipython3",
   "version": "3.8.5"
  }
 },
 "nbformat": 4,
 "nbformat_minor": 4
}
