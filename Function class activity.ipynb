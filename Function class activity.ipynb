{
 "cells": [
  {
   "cell_type": "markdown",
   "metadata": {},
   "source": [
    "# EXERCISE 1"
   ]
  },
  {
   "cell_type": "code",
   "execution_count": 19,
   "metadata": {},
   "outputs": [
    {
     "name": "stdout",
     "output_type": "stream",
     "text": [
      "argument from the keyboard no\n",
      "Shutdown aborted\n"
     ]
    }
   ],
   "source": [
    "val = input(\"argument from the keyboard \")\n",
    "def shut_down():\n",
    "    if val == \"yes\":\n",
    "        print(\"shutting down\")\n",
    "    elif val == \"no\":\n",
    "        print(\"Shutdown aborted\")\n",
    "    else: \n",
    "         print(\"Sorry, such argument not welcome\")    \n",
    "shut_down()    #CALL    "
   ]
  },
  {
   "cell_type": "markdown",
   "metadata": {},
   "source": [
    "# EXERCISE 2"
   ]
  },
  {
   "cell_type": "code",
   "execution_count": null,
   "metadata": {},
   "outputs": [],
   "source": [
    "import colorama\n",
    "from colorama import Fore, Style\n",
    "import pandas as pd\n",
    "import csv\n",
    "\n",
    "\n",
    "Employee = ['Anderson', 'David', 'Lotanna', 'susan', 'Mia']\n",
    "Salary = [124222, 452322, 124213, 322224, 44234449]\n",
    "\n",
    "\n",
    "\n",
    "def showEmployee(c):\n",
    "    m=0\n",
    "    while m<c\n",
    "    "
   ]
  },
  {
   "cell_type": "markdown",
   "metadata": {},
   "source": [
    "# EXERCISE 3"
   ]
  },
  {
   "cell_type": "code",
   "execution_count": 45,
   "metadata": {},
   "outputs": [
    {
     "name": "stdout",
     "output_type": "stream",
     "text": [
      "any value33\n",
      "35937\n"
     ]
    }
   ],
   "source": [
    "a = int(input(\"any value\"))\n",
    "def cube():\n",
    "    num = a**3\n",
    "    print(num)\n",
    "\n",
    "def by_three():\n",
    "    if num%3 == 0:\n",
    "        print(num)\n",
    "\n",
    "cube()"
   ]
  },
  {
   "cell_type": "markdown",
   "metadata": {},
   "source": [
    "# EXERCISE 4"
   ]
  },
  {
   "cell_type": "code",
   "execution_count": 8,
   "metadata": {},
   "outputs": [
    {
     "name": "stdout",
     "output_type": "stream",
     "text": [
      "Original String : DGEtcGSZ\n",
      "no of upper case letters: 1\n",
      "no of upper case letters: 0\n",
      "Original String : DGEtcGSZ\n",
      "no of upper case letters: 2\n",
      "no of upper case letters: 0\n",
      "Original String : DGEtcGSZ\n",
      "no of upper case letters: 3\n",
      "no of upper case letters: 0\n",
      "Original String : DGEtcGSZ\n",
      "no of upper case letters: 3\n",
      "no of upper case letters: 1\n",
      "Original String : DGEtcGSZ\n",
      "no of upper case letters: 3\n",
      "no of upper case letters: 2\n",
      "Original String : DGEtcGSZ\n",
      "no of upper case letters: 4\n",
      "no of upper case letters: 2\n",
      "Original String : DGEtcGSZ\n",
      "no of upper case letters: 5\n",
      "no of upper case letters: 2\n",
      "Original String : DGEtcGSZ\n",
      "no of upper case letters: 6\n",
      "no of upper case letters: 2\n"
     ]
    }
   ],
   "source": [
    "def andy(p):\n",
    "    d={\"upper_case\":0, \"lower_case\":0}\n",
    "    for c in p:\n",
    "        if c.isupper():\n",
    "            d[\"upper_case\"]+=1\n",
    "        elif c.islower():\n",
    "            d[\"lower_case\"]+=1\n",
    "        else:\n",
    "            pass\n",
    "        print (\"Original String :\", p)\n",
    "        print (\"no of upper case letters:\", d[\"upper_case\"])\n",
    "        print (\"no of upper case letters:\", d[\"lower_case\"])\n",
    "        \n",
    "        \n",
    "andy('DGEtcGSZ')"
   ]
  },
  {
   "cell_type": "code",
   "execution_count": null,
   "metadata": {},
   "outputs": [],
   "source": []
  }
 ],
 "metadata": {
  "kernelspec": {
   "display_name": "Python 3",
   "language": "python",
   "name": "python3"
  },
  "language_info": {
   "codemirror_mode": {
    "name": "ipython",
    "version": 3
   },
   "file_extension": ".py",
   "mimetype": "text/x-python",
   "name": "python",
   "nbconvert_exporter": "python",
   "pygments_lexer": "ipython3",
   "version": "3.8.5"
  }
 },
 "nbformat": 4,
 "nbformat_minor": 4
}
